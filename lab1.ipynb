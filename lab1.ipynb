from sklearn.datasets import load_iris
iris = load_iris()
iris

type(iris)

iris.keys()

print(iris['target_names'], iris['data_module'])

print(iris.frame, iris.DESCR)

print(iris.data[0])

n_samples,n_features = iris.data.shape
print("num od samples ",n_samples)
print("num of features ",n_features)

iris.data[[12,26,89,114]]

print(iris.data.shape)
print(iris.target.shape)

print(iris.target)

import numpy as np
np.bincount(iris.target)

print(iris.target)

#exercise
''' find and load dataset wine from sklearn
find description
name of classes
fatures
count for each feature in class '''


from sklearn.datasets import load_wine
iris = load_wine()
iris

type(iris)

iris.keys()

print(iris.feature_names)

n_samples,n_features = iris.data.shape
print("num od samples ",n_samples)
print("num of features ",n_features)

