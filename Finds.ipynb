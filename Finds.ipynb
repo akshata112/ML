from google.colab import files
uploaded = files.upload()

import pandas as pd
import numpy as np

df=pd.read_csv("Untitled spreadsheet - Sheet1.csv")
df

arr=np.array(df)[:,:-1]
arr

target=np.array(df)[:,-1]
target

def fun(c,t):
  for i, val in enumerate(t):
    if val == "Yes":
      specific_hypothesis=c[i].copy()
      break
  
  for i, val in enumerate(c):
    if t[i]=="Yes":
      for x in range(len(specific_hypothesis)):
        if val[x]!=specific_hypothesis[x]:
          specific_hypothesis[x]='?'
        else:
          pass
  return specific_hypothesis
print(fun(arr,target))
